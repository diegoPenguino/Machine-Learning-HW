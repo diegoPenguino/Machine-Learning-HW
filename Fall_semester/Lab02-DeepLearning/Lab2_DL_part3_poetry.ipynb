{
 "cells": [
  {
   "cell_type": "markdown",
   "metadata": {},
   "source": [
    "## Lab 2"
   ]
  },
  {
   "cell_type": "markdown",
   "metadata": {},
   "source": [
    "### Part 3. Poetry generation\n",
    "\n",
    "Let's try to generate some poetry using RNNs. \n",
    "\n",
    "You have several choices here: \n",
    "\n",
    "* The Shakespeare sonnets, file `sonnets.txt` available in the notebook directory.\n",
    "\n",
    "* Роман в стихах \"Евгений Онегин\" Александра Сергеевича Пушкина. В предобработанном виде доступен по [ссылке](https://github.com/attatrol/data_sources/blob/master/onegin.txt).\n",
    "\n",
    "* Some other text source, if it will be approved by the course staff.\n",
    "\n",
    "Text generation can be designed in several steps:\n",
    "    \n",
    "1. Data loading.\n",
    "2. Dictionary generation.\n",
    "3. Data preprocessing.\n",
    "4. Model (neural network) training.\n",
    "5. Text generation (model evaluation).\n"
   ]
  },
  {
   "cell_type": "code",
   "execution_count": 1,
   "metadata": {},
   "outputs": [],
   "source": [
    "import string\n",
    "import os\n",
    "import numpy as np\n",
    "from matplotlib import pyplot as plt\n",
    "import torch, torch.nn as nn\n",
    "import torch.nn.functional as F"
   ]
  },
  {
   "cell_type": "markdown",
   "metadata": {},
   "source": [
    "### Data loading: Shakespeare"
   ]
  },
  {
   "cell_type": "markdown",
   "metadata": {},
   "source": [
    "Shakespeare sonnets are awailable at this [link](http://www.gutenberg.org/ebooks/1041?msg=welcome_stranger). In addition, they are stored in the same directory as this notebook (`sonnetes.txt`). Simple preprocessing is already done for you in the next cell: all technical info is dropped."
   ]
  },
  {
   "cell_type": "code",
   "execution_count": 2,
   "metadata": {
    "collapsed": true
   },
   "outputs": [],
   "source": [
    "if not os.path.exists('sonnets.txt'):\n",
    "    !wget https://raw.githubusercontent.com/girafe-ai/ml-course/22f_basic/homeworks_basic/lab02_deep_learning/sonnets.txt\n",
    "\n",
    "with open('sonnets.txt', 'r') as iofile:\n",
    "    text = iofile.readlines()\n",
    "    \n",
    "TEXT_START = 45\n",
    "TEXT_END = -368\n",
    "lines = text[TEXT_START : TEXT_END]\n",
    "text = text[TEXT_START : TEXT_END]\n",
    "assert len(text) == 2616"
   ]
  },
  {
   "cell_type": "markdown",
   "metadata": {},
   "source": [
    "In opposite to the in-class practice, this time we want to predict complex text. Let's reduce the complexity of the task and lowercase all the symbols.\n",
    "\n",
    "Now variable `text` is a list of strings. Join all the strings into one and lowercase it."
   ]
  },
  {
   "cell_type": "code",
   "execution_count": 3,
   "metadata": {},
   "outputs": [
    {
     "name": "stdout",
     "output_type": "stream",
     "text": [
      "OK!\n"
     ]
    }
   ],
   "source": [
    "# Join all the strings into one and lowercase it\n",
    "# Put result into variable text.\n",
    "\n",
    "text = ''.join(text).lower()\n",
    "lines = [line.lower() for line in lines]\n",
    "\n",
    "assert len(text) == 100225, 'Are you sure you have concatenated all the strings?'\n",
    "assert not any([x in set(text) for x in string.ascii_uppercase]), 'Uppercase letters are present'\n",
    "\n",
    "text = \"\"\n",
    "for line in lines:\n",
    "    if len(line) > 15 or len(line) == 1:\n",
    "        text += line\n",
    "\n",
    "print('OK!')"
   ]
  },
  {
   "cell_type": "markdown",
   "metadata": {},
   "source": [
    "Put all the characters, that you've seen in the text, into variable `tokens`."
   ]
  },
  {
   "cell_type": "code",
   "execution_count": 4,
   "metadata": {},
   "outputs": [
    {
     "name": "stdout",
     "output_type": "stream",
     "text": [
      "38\n"
     ]
    }
   ],
   "source": [
    "tokens = sorted(set(text))\n",
    "print(len(tokens))"
   ]
  },
  {
   "cell_type": "markdown",
   "metadata": {},
   "source": [
    "Create dictionary `token_to_idx = {<char>: <index>}` and dictionary `idx_to_token = {<index>: <char>}`"
   ]
  },
  {
   "cell_type": "code",
   "execution_count": 5,
   "metadata": {
    "collapsed": true
   },
   "outputs": [],
   "source": [
    "# dict <index>:<char>\n",
    "# Your great code here\n",
    "token_to_idx = {token: idx for idx, token in enumerate(tokens)}\n",
    "\n",
    "# dict <char>:<index>\n",
    "# Your great code here\n",
    "idx_to_token = {idx: token for idx, token in enumerate(tokens)}"
   ]
  },
  {
   "cell_type": "markdown",
   "metadata": {},
   "source": [
    "*Comment: in this task we have only 38 different tokens, so let's use one-hot encoding.*"
   ]
  },
  {
   "cell_type": "markdown",
   "metadata": {},
   "source": [
    "### Building the model"
   ]
  },
  {
   "cell_type": "markdown",
   "metadata": {},
   "source": [
    "Now we want to build and train recurrent neural net which would be able to something similar to Shakespeare's poetry.\n",
    "\n",
    "Let's use vanilla RNN, similar to the one created during the lesson."
   ]
  },
  {
   "cell_type": "code",
   "execution_count": 6,
   "metadata": {
    "collapsed": true
   },
   "outputs": [],
   "source": [
    "def text_to_matrix(text, token_to_idx):\n",
    "    matrix = np.zeros((len(text), len(token_to_idx)))\n",
    "    for i, token in enumerate(text):\n",
    "        matrix[i, token_to_idx[token]] = 1\n",
    "    return matrix\n",
    "\n",
    "\n",
    "def matrix_to_text(matrix, idx_to_token):\n",
    "    text = []\n",
    "    for row in matrix:\n",
    "        text.append(idx_to_token[np.argmax(row)])\n",
    "    return ''.join(text)\n"
   ]
  },
  {
   "cell_type": "code",
   "execution_count": 7,
   "metadata": {},
   "outputs": [],
   "source": [
    "from torch.autograd import Variable\n",
    "\n",
    "class RNN(nn.Module):\n",
    "    def __init__(self, input_size=len(tokens), hidden_size=18, n_layers=1):\n",
    "        super(RNN, self).__init__()\n",
    "        self.input_size = input_size\n",
    "        self.hidden_size = hidden_size\n",
    "        self.n_layers = n_layers\n",
    "        \n",
    "        self.encoder = nn.Embedding(input_size, hidden_size)\n",
    "        self.gru = nn.GRU(hidden_size, hidden_size, n_layers)\n",
    "        self.decoder = nn.Linear(hidden_size, input_size)\n",
    "    \n",
    "    def forward(self, input, hidden):\n",
    "        input = self.encoder(input.view(1, -1))\n",
    "        output, hidden = self.gru(input.view(1, 1, -1), hidden)\n",
    "        output = self.decoder(output.view(1, -1))\n",
    "        return output, hidden\n",
    "\n",
    "    def init_hidden(self):\n",
    "        return Variable(torch.zeros(self.n_layers, 1, self.hidden_size))\n"
   ]
  },
  {
   "cell_type": "code",
   "execution_count": 8,
   "metadata": {},
   "outputs": [],
   "source": [
    "rnn = RNN()\n",
    "\n",
    "def rnn_loop(rnn, batch_ix):\n",
    "    batch_size = batch_ix.shape[0]\n",
    "    h_prev = rnn.init_hidden()\n",
    "    logits = []\n",
    "\n",
    "    tensor = torch.LongTensor(batch_ix.argmax(dim=1))\n",
    "    for x_t in tensor:\n",
    "        logit_t, h_prev = rnn(x_t, h_prev)\n",
    "        logits.append(logit_t)\n",
    "\n",
    "    logits = torch.stack(logits, dim=1)\n",
    "    logits.squeeze_(0)\n",
    "\n",
    "    return logits"
   ]
  },
  {
   "cell_type": "code",
   "execution_count": 9,
   "metadata": {},
   "outputs": [],
   "source": [
    "batch_ix = text_to_matrix(text[:100], token_to_idx)\n",
    "batch_ix = torch.tensor(batch_ix, dtype=torch.int64)\n",
    "\n",
    "logit_seq = rnn_loop(rnn, batch_ix)\n"
   ]
  },
  {
   "cell_type": "code",
   "execution_count": 10,
   "metadata": {},
   "outputs": [],
   "source": [
    "import random\n",
    "\n",
    "def train(text, model, optimizer, criterion):\n",
    "    batch_ix = text_to_matrix(text, token_to_idx)\n",
    "    batch_ix = torch.tensor(batch_ix, dtype=torch.int64)\n",
    "    target_ix = batch_ix[1:]\n",
    "    batch_ix = batch_ix[:-1]\n",
    "            \n",
    "    logits = rnn_loop(model, batch_ix)\n",
    "    loss = criterion(logits, target_ix.argmax(dim=1))\n",
    "\n",
    "    optimizer.zero_grad()\n",
    "    loss.backward()\n",
    "    optimizer.step()\n",
    "        \n",
    "    return model, loss.item()\n",
    "\n",
    "def train_all(text, model, optimizer, criterion, num_epochs=1000):\n",
    "    losses = []\n",
    "    len_mini_text = 200\n",
    "    for epoch in range(num_epochs):\n",
    "        start = random.randint(0, len(text) - len_mini_text)\n",
    "        line = text[start : start + len_mini_text]\n",
    "            \n",
    "        model, loss = train(line, model, optimizer, criterion)\n",
    "        losses.append(loss)\n",
    "\n",
    "        if epoch % 100 == 0:\n",
    "            print('Epoch: {}, Loss: {:.4f}'.format(epoch, losses[-1]))\n",
    "    return model, losses\n"
   ]
  },
  {
   "cell_type": "code",
   "execution_count": 11,
   "metadata": {},
   "outputs": [
    {
     "name": "stdout",
     "output_type": "stream",
     "text": [
      "Epoch: 0, Loss: 3.7438\n",
      "Epoch: 100, Loss: 2.4644\n",
      "Epoch: 200, Loss: 2.1235\n",
      "Epoch: 300, Loss: 1.7454\n",
      "Epoch: 400, Loss: 2.3243\n",
      "Epoch: 500, Loss: 1.8191\n",
      "Epoch: 600, Loss: 1.9713\n",
      "Epoch: 700, Loss: 2.0302\n",
      "Epoch: 800, Loss: 1.8921\n",
      "Epoch: 900, Loss: 2.0073\n",
      "Epoch: 1000, Loss: 1.7861\n",
      "Epoch: 1100, Loss: 1.9906\n",
      "Epoch: 1200, Loss: 1.8758\n",
      "Epoch: 1300, Loss: 1.9320\n",
      "Epoch: 1400, Loss: 1.8952\n",
      "Epoch: 1500, Loss: 1.7018\n",
      "Epoch: 1600, Loss: 1.7409\n",
      "Epoch: 1700, Loss: 1.9090\n",
      "Epoch: 1800, Loss: 1.9815\n",
      "Epoch: 1900, Loss: 1.8450\n"
     ]
    }
   ],
   "source": [
    "criterion = nn.CrossEntropyLoss()\n",
    "optimizer = torch.optim.Adam(rnn.parameters(), lr=0.01)\n",
    "\n",
    "rnn, losses = train_all(text, rnn, optimizer, criterion, num_epochs=2000)\n"
   ]
  },
  {
   "cell_type": "markdown",
   "metadata": {},
   "source": [
    "Plot the loss function (axis X: number of epochs, axis Y: loss function)."
   ]
  },
  {
   "cell_type": "code",
   "execution_count": 12,
   "metadata": {
    "collapsed": true
   },
   "outputs": [
    {
     "data": {
      "image/png": "[encoded data removed]",
      "text/plain": [
       "<Figure size 432x288 with 1 Axes>"
      ]
     },
     "metadata": {
      "needs_background": "light"
     },
     "output_type": "display_data"
    }
   ],
   "source": [
    "plt.plot(losses)\n",
    "plt.xlabel('epoch')\n",
    "plt.ylabel('loss')\n",
    "plt.show()"
   ]
  },
  {
   "cell_type": "code",
   "execution_count": 13,
   "metadata": {},
   "outputs": [],
   "source": [
    "#generator function for generating text\n",
    "def generate_sample(rnn, seed_phrase=' hello', max_length=20, temperature=1.0):\n",
    "    hidden = rnn.init_hidden()\n",
    "\n",
    "    batch_ix = text_to_matrix(seed_phrase, token_to_idx)\n",
    "    batch_ix = torch.tensor(batch_ix, dtype=torch.int64)\n",
    "    \n",
    "    tensor = torch.LongTensor(batch_ix.argmax(dim=1))\n",
    "    for p in range(len(seed_phrase) - 1):\n",
    "        _, hidden = rnn(tensor[p], hidden)\n",
    "    inp = tensor[-1]\n",
    "\n",
    "    predicted = seed_phrase\n",
    "\n",
    "    for p in range(max_length - len(seed_phrase)):\n",
    "        output, hidden = rnn(inp, hidden)\n",
    "        \n",
    "        output_dist = output.data.view(-1).div(temperature).exp()\n",
    "        top_i = torch.multinomial(output_dist, 1)[0]\n",
    "        \n",
    "        predicted_char = idx_to_token[int(top_i)]\n",
    "        predicted += predicted_char\n",
    "        inp = Variable(torch.tensor([token_to_idx[predicted_char]]))\n",
    "\n",
    "    return predicted\n"
   ]
  },
  {
   "cell_type": "code",
   "execution_count": 14,
   "metadata": {},
   "outputs": [
    {
     "name": "stdout",
     "output_type": "stream",
     "text": [
      "sometime too hoth the thee when the the heart the the thee prove,\n",
      "  the thing thou i the the when the the the thee thee the the the in thee the bears the thee shave bears,\n",
      "  the the the the that the the the the the the the then the when and bears\n",
      "  the in the the the the with the the the shart,\n",
      "  the that that the the thou the the the thou thee the and the thee thee in thee the thee the thee bears the she with thee the in thee so bears thee the the is thee the beart thee,\n",
      "  the the the the in th\n"
     ]
    }
   ],
   "source": [
    "print(generate_sample(rnn, max_length=500, seed_phrase='sometime too hot', temperature=0.2))"
   ]
  },
  {
   "cell_type": "markdown",
   "metadata": {},
   "source": [
    "### More poetic model\n",
    "\n",
    "Let's use LSTM instead of vanilla RNN and compare the results."
   ]
  },
  {
   "cell_type": "markdown",
   "metadata": {},
   "source": [
    "Plot the loss function of the number of epochs. Does the final loss become better?"
   ]
  },
  {
   "cell_type": "code",
   "execution_count": 33,
   "metadata": {
    "collapsed": true
   },
   "outputs": [],
   "source": [
    "\n",
    "class RNN_LSTM(nn.Module):\n",
    "    def __init__(self, input_size=len(tokens), hidden_size=64, n_layers=1):\n",
    "        super(RNN_LSTM, self).__init__()\n",
    "        self.input_size = input_size\n",
    "        self.hidden_size = hidden_size\n",
    "        self.n_layers = n_layers\n",
    "        \n",
    "        self.encoder = nn.Embedding(input_size, hidden_size)\n",
    "        self.lstm = nn.LSTM(hidden_size, hidden_size, n_layers)\n",
    "        self.decoder = nn.Linear(hidden_size, input_size)\n",
    "    \n",
    "    def forward(self, input, hidden):\n",
    "        input = self.encoder(input)\n",
    "        output, hidden = self.lstm(input.view(1, 1, -1), hidden)\n",
    "        output = self.decoder(output.view(1, -1))\n",
    "        return output, hidden\n",
    "\n",
    "    def init_hidden(self):\n",
    "        return (Variable(torch.zeros(self.n_layers, 1, self.hidden_size)),\n",
    "                Variable(torch.zeros(self.n_layers, 1, self.hidden_size)))"
   ]
  },
  {
   "cell_type": "code",
   "execution_count": 34,
   "metadata": {},
   "outputs": [
    {
     "name": "stdout",
     "output_type": "stream",
     "text": [
      "Epoch: 0, Loss: 3.6260\n",
      "Epoch: 100, Loss: 2.5360\n",
      "Epoch: 200, Loss: 2.3868\n",
      "Epoch: 300, Loss: 2.2427\n",
      "Epoch: 400, Loss: 2.2785\n",
      "Epoch: 500, Loss: 2.0254\n",
      "Epoch: 600, Loss: 1.9847\n",
      "Epoch: 700, Loss: 1.9525\n",
      "Epoch: 800, Loss: 1.9993\n",
      "Epoch: 900, Loss: 2.0418\n",
      "Epoch: 1000, Loss: 1.7632\n",
      "Epoch: 1100, Loss: 2.0391\n",
      "Epoch: 1200, Loss: 1.8145\n",
      "Epoch: 1300, Loss: 1.9584\n",
      "Epoch: 1400, Loss: 1.7396\n",
      "Epoch: 1500, Loss: 1.8191\n",
      "Epoch: 1600, Loss: 1.8249\n",
      "Epoch: 1700, Loss: 1.8227\n",
      "Epoch: 1800, Loss: 1.7829\n",
      "Epoch: 1900, Loss: 1.5853\n"
     ]
    }
   ],
   "source": [
    "rnn_lstm = RNN_LSTM()\n",
    "\n",
    "criterion = nn.CrossEntropyLoss()\n",
    "optimizer = torch.optim.Adam(rnn_lstm.parameters(), lr=0.001)\n",
    "\n",
    "rnn_lstm, losses = train_all(text, rnn_lstm, optimizer, criterion, num_epochs=2000)"
   ]
  },
  {
   "cell_type": "code",
   "execution_count": 35,
   "metadata": {},
   "outputs": [
    {
     "data": {
      "image/png": "[encoded data removed]",
      "text/plain": [
       "<Figure size 432x288 with 1 Axes>"
      ]
     },
     "metadata": {
      "needs_background": "light"
     },
     "output_type": "display_data"
    }
   ],
   "source": [
    "# Plot losses\n",
    "plt.plot(losses)\n",
    "plt.xlabel('epoch')\n",
    "plt.ylabel('loss')\n",
    "plt.show()"
   ]
  },
  {
   "cell_type": "markdown",
   "metadata": {},
   "source": [
    "Generate text using the trained net with different `temperature` parameter: `[0.1, 0.2, 0.5, 1.0, 2.0]`.\n",
    "\n",
    "Evaluate the results visually, try to interpret them."
   ]
  },
  {
   "cell_type": "code",
   "execution_count": 36,
   "metadata": {
    "collapsed": true
   },
   "outputs": [
    {
     "name": "stdout",
     "output_type": "stream",
     "text": [
      "sometime too hoth the the the the the shath the the the the the the the the the the the the the the the the the the the the the the the the the the the the the the the the the the the the the the the the the the shall the the the the the the the the the the the the the the the the the the the the the so more the the the the the the the the the the the the shall the the the the the the the the the the the the the the the the the the the the the the the the the the the the the the the the the the \n"
     ]
    }
   ],
   "source": [
    "print(generate_sample(rnn_lstm, max_length=500, seed_phrase='sometime too hot', temperature=0.1))"
   ]
  },
  {
   "cell_type": "code",
   "execution_count": 37,
   "metadata": {},
   "outputs": [
    {
     "name": "stdout",
     "output_type": "stream",
     "text": [
      "her false the the shath the so me the shee the the store sees the the the the the the the shear the the store the the the the the the the the the the so my make the shee the sume the steet the the shath the steest the the and the the start the shall seet the the the stell of the the shall the the the the the the the shee the the the so love the the the the the the the me the shath the shath shath the the the so the shall the so the dear the the the the the the the the the so the the the the the \n"
     ]
    }
   ],
   "source": [
    "print(generate_sample(rnn_lstm, max_length=500, seed_phrase='her false', temperature=0.2))"
   ]
  },
  {
   "cell_type": "code",
   "execution_count": 38,
   "metadata": {},
   "outputs": [
    {
     "name": "stdout",
     "output_type": "stream",
     "text": [
      "her false hare thou stor that the to be with thou for that not save the as whe not the so i his thou and, the deting and the the is the shar shath the seest of the sitill deeth the love, co the the manter shal my dest my love thus so you be see his love my love that thou the worthers shear dese some but see the the shee my see the thou then thee of the mades being come for the rear thy so my seet strander whill beart the love the the the the for mught that and my loven is deast that thou  and wi\n"
     ]
    }
   ],
   "source": [
    "print(generate_sample(rnn_lstm, max_length=500, seed_phrase='her false', temperature=0.5))"
   ]
  },
  {
   "cell_type": "code",
   "execution_count": 39,
   "metadata": {},
   "outputs": [
    {
     "name": "stdout",
     "output_type": "stream",
     "text": [
      "her falseuor youd in me and evel--urp\n",
      "  nogont:\n",
      "    nocherfun thou whos, sher thigh this with be swast wriv blave meart, tearthaougnd tortt love it i of iom marne arand wo ifutris thure theseld mided to loth llot,\n",
      "  a crist gai turn wory the mine to seauty-onc\n",
      "  thint betold,\n",
      "    true rure:\n",
      "     oncaved fours,r's i rivedio, in plme win thou what that ank on whe thic', sarace wis so no demir, 'ues wire fauty then naue wiftathel,\n",
      "  and hate kamined best bue hist live more look seets nat goy hatare\n"
     ]
    }
   ],
   "source": [
    "print(generate_sample(rnn_lstm, max_length=500, seed_phrase='her false', temperature=1.0))"
   ]
  },
  {
   "cell_type": "code",
   "execution_count": 40,
   "metadata": {},
   "outputs": [
    {
     "name": "stdout",
     "output_type": "stream",
     "text": [
      "her falsen hid'st-s(elflfcio:-\n",
      "  riyde bunghfest,\n",
      "  nuoueh rpempizeik tolqusz sgokiof loog's heqrie; comw hine.rris! ank fuwy \n",
      ":iendize am'dl.\n",
      "\n",
      "\n",
      "!\n",
      "a h.orreninc;mf)abil bofual.\n",
      " !ssr\n",
      "  i \n",
      "ttynpdet, rhif-;\n",
      " .(ait, inposy; qute?\n",
      "  urnove;\n",
      " ?\n",
      "  'eyy fnlnm; wi bveou rengays-h\n",
      " wplode;s.\n",
      "  i stezid vioy;\n",
      "  hu xirerl'wevtherck:;at\n",
      " gode;\n",
      "   f.une ,ur grvansizue blic! swo,;.\n",
      "b mmest,\n",
      "  ykefeoighth hmede,urnmyrg,h\n",
      "  levk.:\n",
      "s\n",
      "  d lksts('aithnnod?\n",
      " jrnisakks,\n",
      "   nod:\n",
      "  bicp's!\n",
      " k thii mzoviemiw:\n",
      " tikcex.,-\n"
     ]
    }
   ],
   "source": [
    "print(generate_sample(rnn_lstm, max_length=500, seed_phrase='her false', temperature=2.0))"
   ]
  },
  {
   "attachments": {},
   "cell_type": "markdown",
   "metadata": {},
   "source": [
    "### CONCLUSION\n",
    "\n",
    "In my opinion the best text is the one with temperature = $0.5$, probably because is a mid point for which the rnn has enough freedom to generate more complex phrases than just \"the the the\", and is not that high so that it generates some random text."
   ]
  },
  {
   "cell_type": "markdown",
   "metadata": {},
   "source": [
    "### Saving and loading models"
   ]
  },
  {
   "cell_type": "markdown",
   "metadata": {},
   "source": [
    "Save the model to the disk, then load it and generate text. Examples are available [here](https://pytorch.org/tutorials/beginner/saving_loading_models.html])."
   ]
  },
  {
   "cell_type": "code",
   "execution_count": 31,
   "metadata": {
    "collapsed": true
   },
   "outputs": [],
   "source": [
    "# Saving and loading code here"
   ]
  },
  {
   "cell_type": "markdown",
   "metadata": {},
   "source": [
    "### References\n",
    "1. <a href='http://karpathy.github.io/2015/05/21/rnn-effectiveness/'> Andrew Karpathy blog post about RNN. </a> \n",
    "There are several examples of genration: Shakespeare texts, Latex formulas, Linux Sourse Code and children names.\n",
    "2. <a href='https://github.com/karpathy/char-rnn'> Repo with char-rnn code </a>\n",
    "3. Cool repo with PyTorch examples: [link](https://github.com/spro/practical-pytorch`)"
   ]
  }
 ],
 "metadata": {
  "anaconda-cloud": {},
  "kernelspec": {
   "display_name": "Python 3",
   "language": "python",
   "name": "python3"
  },
  "language_info": {
   "codemirror_mode": {
    "name": "ipython",
    "version": 3
   },
   "file_extension": ".py",
   "mimetype": "text/x-python",
   "name": "python",
   "nbconvert_exporter": "python",
   "pygments_lexer": "ipython3",
   "version": "3.10.8"
  },
  "vscode": {
   "interpreter": {
    "hash": "98b7f83ea1f6816592be813d0a9257f9f3e2d15bf5c320e3b781c72faa584dce"
   }
  }
 },
 "nbformat": 4,
 "nbformat_minor": 2
}
