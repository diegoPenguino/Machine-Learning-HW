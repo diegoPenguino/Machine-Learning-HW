{
 "cells": [
  {
   "cell_type": "markdown",
   "metadata": {},
   "source": [
    "*Credits: materials from this notebook belong to YSDA [Practical DL](https://github.com/yandexdataschool/Practical_DL) course. Special thanks for making them available online.*"
   ]
  },
  {
   "cell_type": "markdown",
   "metadata": {},
   "source": [
    "# Lab assignment №1, part 1\n",
    "\n",
    "This lab assignment consists of several parts. You are supposed to make some transformations, train some models, estimate the quality of the models and explain your results.\n",
    "\n",
    "Several comments:\n",
    "* Don't hesitate to ask questions, it's a good practice.\n",
    "* No private/public sharing, please. The copied assignments will be graded with 0 points.\n",
    "* Blocks of this lab will be graded separately."
   ]
  },
  {
   "cell_type": "markdown",
   "metadata": {},
   "source": [
    "## 1. Matrix differentiation"
   ]
  },
  {
   "cell_type": "markdown",
   "metadata": {},
   "source": [
    "Since it easy to google every task please please please try to undestand what's going on. The \"just answer\" thing will be not counted, make sure to present derivation of your solution. It is absolutely OK if you found an answer on web then just exercise in $\\LaTeX$ copying it into here."
   ]
  },
  {
   "cell_type": "markdown",
   "metadata": {},
   "source": [
    "Useful links: \n",
    "[1](http://www.machinelearning.ru/wiki/images/2/2a/Matrix-Gauss.pdf)\n",
    "[2](http://www.atmos.washington.edu/~dennis/MatrixCalculus.pdf)"
   ]
  },
  {
   "cell_type": "markdown",
   "metadata": {},
   "source": [
    "## ex. 1"
   ]
  },
  {
   "cell_type": "markdown",
   "metadata": {},
   "source": [
    "$$  \n",
    "y = x^Tx,  \\quad x \\in \\mathbb{R}^N \n",
    "$$"
   ]
  },
  {
   "cell_type": "markdown",
   "metadata": {},
   "source": [
    "$$\n",
    "\\frac{dy}{dx} = 2\\mathit{I}x = 2x\n",
    "\\\\\n",
    "\\text{As: } \\frac{d}{dx}(x^TAx) = (A + A^T)x \\\\  \\text{And:  } x^Tx=x^T\\mathit{I}x\n",
    "\\\\\n",
    "\\text{We can achieve the same result by differentiating the terms of } x^Tx = \\sum_{i=1}^{N} x_i^2 \\text{ with respect to x}.\\\\\n",
    "\\text{Getting as result }(2x_1, 2x_2, ... , 2x_N) = 2x \\\\\n",
    "$$\n"
   ]
  },
  {
   "cell_type": "code",
   "execution_count": null,
   "metadata": {
    "collapsed": true,
    "jupyter": {
     "outputs_hidden": true
    }
   },
   "outputs": [],
   "source": []
  },
  {
   "cell_type": "markdown",
   "metadata": {},
   "source": [
    "## ex. 2"
   ]
  },
  {
   "cell_type": "markdown",
   "metadata": {},
   "source": [
    "$$ y = tr(AB) \\quad A,B \\in \\mathbb{R}^{N \\times N} $$ "
   ]
  },
  {
   "cell_type": "markdown",
   "metadata": {},
   "source": [
    "$$\n",
    "\\frac{dy}{dA} = B^T\\\\\n",
    "$$\n",
    "\n",
    "$$\n",
    "y = tr(AB) = (a_{11}b_{11} + a_{12}b_{21} + ... a_{1N}b_{N1}) + (a_{21}b_{12} + a_{22}b_{22} + ... a_{2N}b_{N2}) + ... + (a_{N1}b_{1N} + a_{N2}b_{2N} + ... a_{NN}b_{NN})\\\\\n",
    "$$\n",
    "\n",
    "$$\n",
    "\\text{Taking the derivative respect to A we get: } \n",
    "\\begin{pmatrix}\n",
    "    \\frac{dy}{d(a_{11})} & \\frac{dy}{d(a_{12})} & \\frac{dy}{d(a_{13})} & ... & \\frac{dy}{d(a_{1N})} \\\\\n",
    "    \\frac{dy}{d(a_{21})} & \\frac{dy}{d(a_{22})} & \\frac{dy}{d(a_{23})} & ... & \\frac{dy}{d(a_{2N})} \\\\\n",
    "    ... & ... & ... & ... & ... \\\\\n",
    "    \\frac{dy}{d(a_{N1})} & \\frac{dy}{d(a_{N2})} & \\frac{dy}{d(a_{N3})} & ... & \\frac{dy}{d(a_{NN})}\n",
    "\\end{pmatrix} = \n",
    "\\begin{pmatrix}\n",
    "    b_{11} & b_{21} & b_{31} & ... & b_{N1} \\\\\n",
    "    b_{12} & b_{22} & b_{32} & ... & b_{N2} \\\\\n",
    "    ... & ... & ... & ... & ... \\\\\n",
    "    b_{1N} & b_{2N} & b_{3N} & ... & b_{NN}\n",
    "\\end{pmatrix}\n",
    "\n",
    "\\text{Which is equal to }B^T\n",
    "$$"
   ]
  },
  {
   "cell_type": "code",
   "execution_count": null,
   "metadata": {
    "collapsed": true,
    "jupyter": {
     "outputs_hidden": true
    }
   },
   "outputs": [],
   "source": []
  },
  {
   "cell_type": "markdown",
   "metadata": {},
   "source": [
    "## ex. 3"
   ]
  },
  {
   "cell_type": "markdown",
   "metadata": {},
   "source": [
    "$$  \n",
    "y = x^TAc , \\quad A\\in \\mathbb{R}^{N \\times N}, x\\in \\mathbb{R}^{N}, c\\in \\mathbb{R}^{N} \n",
    "$$"
   ]
  },
  {
   "cell_type": "markdown",
   "metadata": {},
   "source": [
    "$$\n",
    "y =\n",
    "\\begin{pmatrix}\n",
    "x_1 & x_2 & ... & x_N\n",
    "\\end{pmatrix}\n",
    "\\begin{pmatrix}\n",
    "    a_{11} & a_{12} & ... & a_{1N} \\\\\n",
    "    a_{21} & a_{22} & ... & a_{2N} \\\\\n",
    "    ... & ... & ... & ... \\\\\n",
    "    a_{N1} & a_{N2} & ... & a_{NN}\n",
    "\\end{pmatrix}\n",
    "\\begin{pmatrix}\n",
    "c_1 \\\\ c_2 \\\\ ... \\\\ c_N\n",
    "\\end{pmatrix} = \n",
    "c_1\\sum_{i = 1}^{N} x_ia_{i1} + c_2\\sum_{i = 1}^{N} x_ia_{i2} + ... + c_N\\sum_{i = 1}^{N} x_ia_{iN} = \\sum_{j = 1}^{N}\\sum_{i = 1}^{N}c_jx_ia_{ij}\n",
    "$$\n",
    "\n",
    "$$\n",
    "\\text{We find the derivative with respect to an arbitrary component of x: }\\\\\n",
    "\\frac{dy}{d(x_k)} = c_1a_{k1}+ ... + c_Na_{kN} = \\sum_{i = 1}^{N} c_ia_{ki}\\\\\n",
    "\\text{And thus: }\n",
    "$$\n",
    "\n",
    "$$\n",
    "\n",
    "\\frac{dy}{dx} =\n",
    "\\begin{pmatrix}\n",
    "\\sum_{i = 1}^{N} c_ia_{1i} \\\\\n",
    "\\sum_{i = 1}^{N} c_ia_{2i} \\\\\n",
    "... \\\\\n",
    "\\sum_{i = 1}^{N} c_ia_{Ni}\n",
    "\\end{pmatrix} = Ac\n",
    "$$\n"
   ]
  },
  {
   "cell_type": "markdown",
   "metadata": {},
   "source": [
    "$$\n",
    "\\text{If we find the derivative with respect to A: }\\\\\n",
    "\\text{For arbitrary element of the matrix: }\\\\\n",
    "\\frac{dy}{d(a_{ij})} = c_jx_i \\\\\n",
    "\\text{Thus:}\n",
    "$$\n",
    "\n",
    "$$\n",
    "\\frac{dy}{dA} = \n",
    "\\begin{pmatrix}\n",
    "c_1x_1 & c_2x_1 & c_3x_1 & ... & c_Nx_1 \\\\\n",
    "c_1x_2 & c_2x_2 & c_3x_2 & ... & c_Nx_2 \\\\\n",
    "... & ... & ... & ... & ... \\\\\n",
    "c_1x_N & c_2x_N & c_3x_N & ... & c_Nx_N \\\\\n",
    "\\end{pmatrix} = \n",
    "xc^T\n",
    "$$"
   ]
  },
  {
   "cell_type": "markdown",
   "metadata": {},
   "source": [
    "Hint for the latter (one of the ways): use *ex. 2* result and the fact \n",
    "$$\n",
    "tr(ABC) = tr (CAB)\n",
    "$$"
   ]
  },
  {
   "cell_type": "markdown",
   "metadata": {},
   "source": [
    "## ex. 4"
   ]
  },
  {
   "cell_type": "markdown",
   "metadata": {},
   "source": [
    "Classic matrix factorization example. Given matrix $X$ you need to find $A$, $S$ to approximate $X$. This can be done by simple gradient descent iteratively alternating $A$ and $S$ updates.\n",
    "$$\n",
    "J = || X - AS ||_F^2  , \\quad A\\in \\mathbb{R}^{N \\times R} , \\quad S\\in \\mathbb{R}^{R \\times M}\n",
    "$$\n",
    "$$\n",
    "\\frac{dJ}{dS} = ? \n",
    "$$\n",
    "\n",
    "You may use one of the following approaches:"
   ]
  },
  {
   "cell_type": "markdown",
   "metadata": {},
   "source": [
    "#### First approach\n",
    "Using ex.2 and the fact:\n",
    "$$\n",
    "|| X ||_F^2 = tr(XX^T) \n",
    "$$ \n",
    "\n",
    "$$\n",
    "||X - AS||_F^2 = tr((X - AS)(X - AS)^T) = tr(XX^T) - tr(XS^TA^T) - tr(ASX^T) + tr(ASS^TA^T)\\\\~\\\\\n",
    "\n",
    "\\frac{tr(XX^T)}{dS} = 0\\\\~\\\\\n",
    "\n",
    "\\frac{tr(XS^TA^T)}{dS} = \\frac{tr(S^TA^TX)}{dS} = \\frac{tr(SX^TA)}{dS} = A^TX\\\\~\\\\\n",
    "\n",
    "\\frac{tr(ASX^T)}{dS} = \\frac{tr(SX^TA)}{dS} = A^TX\\\\~\\\\\n",
    "\\frac{tr(ASS^TA^T)}{dS} = \\frac{tr(SS^TA^TA)}{dS} = A^TAS + A^TAS = 2A^TAS\\\\~\\\\\n",
    "\n",
    "\n",
    "\\frac{dJ}{dS} = -2A^T(X - AS)\n",
    "$$\n",
    "\n",
    "it is easy to derive gradients (you can find it in one of the refs). "
   ]
  },
  {
   "cell_type": "markdown",
   "metadata": {},
   "source": [
    "#### Second approach\n",
    "You can use *slightly different techniques* if they suits you. Take a look at this derivation:\n",
    "<img src=\"grad.png\">\n",
    "(excerpt from [Handbook of blind source separation, Jutten, page 517](https://books.google.ru/books?id=PTbj03bYH6kC&printsec=frontcover&dq=Handbook+of+Blind+Source+Separation&hl=en&sa=X&ved=0ahUKEwi-q_apiJDLAhULvXIKHVXJDWcQ6AEIHDAA#v=onepage&q=Handbook%20of%20Blind%20Source%20Separation&f=false), open for better picture)."
   ]
  },
  {
   "cell_type": "markdown",
   "metadata": {},
   "source": [
    "#### Third approach\n",
    "And finally we can use chain rule! \n",
    "let $ F = AS $ \n",
    "\n",
    "**Find**\n",
    "$$\n",
    "\\frac{dJ}{dF} = \\frac{d(tr((X-F)(X-F)^T))}{dF} = \\frac{d(tr(XX^T) - 2tr(FX^T) + tr(FF^T))}{dF} = -2X + 2F\\\\ \n",
    "$$ \n",
    "and \n",
    "$$\n",
    "F_{ij} = \\sum_{k=1}^{R}a_{ik}s_{kj}\\\\\n",
    "\n",
    "\\frac{dF_{ij}}{dS} = \n",
    "\\begin{pmatrix}\n",
    "0 & ... & a_{i1} & ... & 0\\\\\n",
    "0 & ... & a_{i2} & ... & 0\\\\\n",
    "... & ... & ... & ... & ...\\\\\n",
    "0 & ... & a_{iR} & ... & 0\n",
    "\\end{pmatrix}\n",
    "\\text{Where the row with no 0 is the j-th row of the matrix}\\\\\n",
    "\n",
    "\\text{If we rearrange the rows of the matrix we have as result in } \\frac{dF}{ds} \\text{we get:} \\\\\n",
    "\n",
    "\\frac{dF}{dS} = \\mathbb{I}\\otimes A\\\\\n",
    "\n",
    "$$ \n",
    "(the shape should be $ NM \\times RM )$.\n",
    "\n",
    "Now it is easy do get desired gradients:\n",
    "$$\n",
    "\\frac{dJ}{dS} =  \\\\\n",
    "\n",
    "\\textit{I honestly don't know how to multiplicate the 2 previous results}\n",
    "$$ "
   ]
  },
  {
   "cell_type": "markdown",
   "metadata": {
    "collapsed": true,
    "jupyter": {
     "outputs_hidden": true
    }
   },
   "source": [
    "## 2. kNN questions\n",
    "Here come the questions from the assignment0_01. Please, refer to the assignment0_01 to get the context of the questions."
   ]
  },
  {
   "cell_type": "markdown",
   "metadata": {},
   "source": [
    "### Question 1\n",
    "\n",
    "Notice the structured patterns in the distance matrix, where some rows or columns are visible brighter. (Note that with the default color scheme black indicates low distances while white indicates high distances.)\n",
    "\n",
    "- What in the data is the cause behind the distinctly bright rows?\n",
    "- What causes the columns?\n",
    "\n",
    "$\\color{blue}{\\textit Your Answer:}$ The bright rows are caused by test data that has low similarity with a lot of the training data, which I believe is actually good, as it might look like its all white, there are some black points, which are obviously closer to the answer.<br>\n",
    "The reason could also be, that this piece of data is not good for our model, or something we haven't seen before.\n",
    "\n",
    "The bright columns are given by the same reason, as it is a training data that differs so much from all the data being tested, it might be considered irrelevant or just misleading data. \n",
    "\n",
    "\n"
   ]
  },
  {
   "cell_type": "markdown",
   "metadata": {},
   "source": [
    "### Question 2\n",
    "\n",
    "We can also use other distance metrics such as L1 distance.\n",
    "For pixel values $p_{ij}^{(k)}$ at location $(i,j)$ of some image $I_k$, \n",
    "\n",
    "the mean $\\mu$ across all pixels over all images is $$\\mu=\\frac{1}{nhw}\\sum_{k=1}^n\\sum_{i=1}^{h}\\sum_{j=1}^{w}p_{ij}^{(k)}$$\n",
    "And the pixel-wise mean $\\mu_{ij}$ across all images is \n",
    "$$\\mu_{ij}=\\frac{1}{n}\\sum_{k=1}^np_{ij}^{(k)}.$$\n",
    "The general standard deviation $\\sigma$ and pixel-wise standard deviation $\\sigma_{ij}$ is defined similarly.\n",
    "\n",
    "Which of the following preprocessing steps will not change the performance of a Nearest Neighbor classifier that uses L1 distance? Select all that apply.\n",
    "1. Subtracting the mean $\\mu$ ($\\tilde{p}_{ij}^{(k)}=p_{ij}^{(k)}-\\mu$.)\n",
    "2. Subtracting the per pixel mean $\\mu_{ij}$  ($\\tilde{p}_{ij}^{(k)}=p_{ij}^{(k)}-\\mu_{ij}$.)\n",
    "3. Subtracting the mean $\\mu$ and dividing by the standard deviation $\\sigma$.\n",
    "4. Subtracting the pixel-wise mean $\\mu_{ij}$ and dividing by the pixel-wise standard deviation $\\sigma_{ij}$.\n",
    "5. Rotating the coordinate axes of the data.\n",
    "\n",
    "$\\color{blue}{\\textit Your Answer:}$ 1 and 3 will not change the performance.\n",
    "\n",
    "\n",
    "$\\color{blue}{\\textit Your Explanation:}$ The mean and the standart deviation are constants for the whole data set<br>\n",
    "Thus subtracting or dividing by them will preserve the distance in L1, but the pixel-wise mean and the pixel-wise deviation are unique for each location ij.<br>\n",
    "And subtracting or dividing by them will definitely change performance.<br>\n",
    "\n",
    "In the case of rotating the axes, it wont preserve the performance, as the distances in L1 will be modified. <br>\n",
    "For example the vectors (0,1) and (1, 0), when rotated 45 degrees will become (-sqrt(2), sqrt(2)) and (sqrt(2), sqrt(2)), the distance between them changes.\n",
    "\n"
   ]
  },
  {
   "cell_type": "markdown",
   "metadata": {},
   "source": [
    "## Question 3\n",
    "\n",
    "Which of the following statements about $k$-Nearest Neighbor ($k$-NN) are true in a classification setting, and for all $k$? Select all that apply.\n",
    "1. The decision boundary (hyperplane between classes in feature space) of the k-NN classifier is linear.\n",
    "2. The training error of a 1-NN will always be lower than that of 5-NN.\n",
    "3. The test error of a 1-NN will always be lower than that of a 5-NN.\n",
    "4. The time needed to classify a test example with the k-NN classifier grows with the size of the training set.\n",
    "5. None of the above.\n",
    "\n",
    "$\\color{blue}{\\textit Your Answer:}$ 2 and 4 are true.\n",
    "\n",
    "\n",
    "$\\color{blue}{\\textit Your Explanation:}$ 1 is not true, just imagine a 2D plane, where all the points inside a circle of radius R are red.<br>\n",
    "Outside the circle the points must be blue, the decision boundary is not linear in this case.\n",
    "\n",
    "2 is true because if we're checking the training error, then the answer will always be the closest point(The one with 0 distance).\n",
    "\n",
    "3 is not always true, lets imagine 5 points(4 red and 1 blue) in a 2d plane.<br>\n",
    "We consider a test point that is red, it is a little closer to the blue point than to the other red points, and we get that the point is blue, when this is false.<br> With 5-NN classifier the test point would have been predicted as red.\n",
    "\n",
    "4 is true, because as the training set grows, we have to make more and more calculations.<br>\n",
    "Even if we use matrix multiplication, only the assignment of the matrix will take longer.\n",
    "\n",
    "\n"
   ]
  }
 ],
 "metadata": {
  "kernelspec": {
   "display_name": "Python 3.10.8 64-bit",
   "language": "python",
   "name": "python3"
  },
  "language_info": {
   "codemirror_mode": {
    "name": "ipython",
    "version": 3
   },
   "file_extension": ".py",
   "mimetype": "text/x-python",
   "name": "python",
   "nbconvert_exporter": "python",
   "pygments_lexer": "ipython3",
   "version": "3.10.8"
  },
  "vscode": {
   "interpreter": {
    "hash": "98b7f83ea1f6816592be813d0a9257f9f3e2d15bf5c320e3b781c72faa584dce"
   }
  }
 },
 "nbformat": 4,
 "nbformat_minor": 4
}
