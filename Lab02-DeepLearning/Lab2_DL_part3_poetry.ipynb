{
 "cells": [
  {
   "cell_type": "markdown",
   "metadata": {},
   "source": [
    "## Lab 2"
   ]
  },
  {
   "cell_type": "markdown",
   "metadata": {},
   "source": [
    "### Part 3. Poetry generation\n",
    "\n",
    "Let's try to generate some poetry using RNNs. \n",
    "\n",
    "You have several choices here: \n",
    "\n",
    "* The Shakespeare sonnets, file `sonnets.txt` available in the notebook directory.\n",
    "\n",
    "* Роман в стихах \"Евгений Онегин\" Александра Сергеевича Пушкина. В предобработанном виде доступен по [ссылке](https://github.com/attatrol/data_sources/blob/master/onegin.txt).\n",
    "\n",
    "* Some other text source, if it will be approved by the course staff.\n",
    "\n",
    "Text generation can be designed in several steps:\n",
    "    \n",
    "1. Data loading.\n",
    "2. Dictionary generation.\n",
    "3. Data preprocessing.\n",
    "4. Model (neural network) training.\n",
    "5. Text generation (model evaluation).\n"
   ]
  },
  {
   "cell_type": "code",
   "execution_count": 22,
   "metadata": {},
   "outputs": [],
   "source": [
    "import string\n",
    "import os\n",
    "import numpy as np\n",
    "from matplotlib import pyplot as plt\n",
    "import torch, torch.nn as nn\n",
    "import torch.nn.functional as F"
   ]
  },
  {
   "cell_type": "markdown",
   "metadata": {},
   "source": [
    "### Data loading: Shakespeare"
   ]
  },
  {
   "cell_type": "markdown",
   "metadata": {},
   "source": [
    "Shakespeare sonnets are awailable at this [link](http://www.gutenberg.org/ebooks/1041?msg=welcome_stranger). In addition, they are stored in the same directory as this notebook (`sonnetes.txt`). Simple preprocessing is already done for you in the next cell: all technical info is dropped."
   ]
  },
  {
   "cell_type": "code",
   "execution_count": 23,
   "metadata": {
    "collapsed": true
   },
   "outputs": [],
   "source": [
    "if not os.path.exists('sonnets.txt'):\n",
    "    !wget https://raw.githubusercontent.com/girafe-ai/ml-course/22f_basic/homeworks_basic/lab02_deep_learning/sonnets.txt\n",
    "\n",
    "with open('sonnets.txt', 'r') as iofile:\n",
    "    text = iofile.readlines()\n",
    "    \n",
    "TEXT_START = 45\n",
    "TEXT_END = -368\n",
    "lines = text[TEXT_START : TEXT_END]\n",
    "text = text[TEXT_START : TEXT_END]\n",
    "assert len(text) == 2616"
   ]
  },
  {
   "cell_type": "markdown",
   "metadata": {},
   "source": [
    "In opposite to the in-class practice, this time we want to predict complex text. Let's reduce the complexity of the task and lowercase all the symbols.\n",
    "\n",
    "Now variable `text` is a list of strings. Join all the strings into one and lowercase it."
   ]
  },
  {
   "cell_type": "code",
   "execution_count": 24,
   "metadata": {},
   "outputs": [
    {
     "name": "stdout",
     "output_type": "stream",
     "text": [
      "OK!\n"
     ]
    }
   ],
   "source": [
    "# Join all the strings into one and lowercase it\n",
    "# Put result into variable text.\n",
    "\n",
    "text = ''.join(text).lower()\n",
    "lines = [line.lower() for line in lines]\n",
    "\n",
    "assert len(text) == 100225, 'Are you sure you have concatenated all the strings?'\n",
    "assert not any([x in set(text) for x in string.ascii_uppercase]), 'Uppercase letters are present'\n",
    "print('OK!')"
   ]
  },
  {
   "cell_type": "markdown",
   "metadata": {},
   "source": [
    "Put all the characters, that you've seen in the text, into variable `tokens`."
   ]
  },
  {
   "cell_type": "code",
   "execution_count": 25,
   "metadata": {},
   "outputs": [
    {
     "name": "stdout",
     "output_type": "stream",
     "text": [
      "38\n"
     ]
    }
   ],
   "source": [
    "tokens = sorted(set(text))\n",
    "print(len(tokens))"
   ]
  },
  {
   "cell_type": "markdown",
   "metadata": {},
   "source": [
    "Create dictionary `token_to_idx = {<char>: <index>}` and dictionary `idx_to_token = {<index>: <char>}`"
   ]
  },
  {
   "cell_type": "code",
   "execution_count": 26,
   "metadata": {
    "collapsed": true
   },
   "outputs": [],
   "source": [
    "# dict <index>:<char>\n",
    "# Your great code here\n",
    "token_to_idx = {token: idx for idx, token in enumerate(tokens)}\n",
    "\n",
    "# dict <char>:<index>\n",
    "# Your great code here\n",
    "idx_to_token = {idx: token for idx, token in enumerate(tokens)}"
   ]
  },
  {
   "cell_type": "markdown",
   "metadata": {},
   "source": [
    "*Comment: in this task we have only 38 different tokens, so let's use one-hot encoding.*"
   ]
  },
  {
   "cell_type": "markdown",
   "metadata": {},
   "source": [
    "### Building the model"
   ]
  },
  {
   "cell_type": "markdown",
   "metadata": {},
   "source": [
    "Now we want to build and train recurrent neural net which would be able to something similar to Shakespeare's poetry.\n",
    "\n",
    "Let's use vanilla RNN, similar to the one created during the lesson."
   ]
  },
  {
   "cell_type": "code",
   "execution_count": 27,
   "metadata": {
    "collapsed": true
   },
   "outputs": [],
   "source": [
    "def text_to_matrix(text, token_to_idx):\n",
    "    matrix = np.zeros((len(text), len(token_to_idx)))\n",
    "    for i, token in enumerate(text):\n",
    "        matrix[i, token_to_idx[token]] = 1\n",
    "    return matrix\n",
    "\n",
    "\n",
    "def matrix_to_text(matrix, idx_to_token):\n",
    "    text = []\n",
    "    for row in matrix:\n",
    "        text.append(idx_to_token[np.argmax(row)])\n",
    "    return ''.join(text)\n"
   ]
  },
  {
   "cell_type": "code",
   "execution_count": 28,
   "metadata": {},
   "outputs": [],
   "source": [
    "from torch.autograd import Variable\n",
    "\n",
    "class RNN(nn.Module):\n",
    "    def __init__(self, input_size=len(tokens), hidden_size=18, n_layers=1):\n",
    "        super(RNN, self).__init__()\n",
    "        self.input_size = input_size\n",
    "        self.hidden_size = hidden_size\n",
    "        self.n_layers = n_layers\n",
    "        \n",
    "        self.encoder = nn.Embedding(input_size, hidden_size)\n",
    "        self.gru = nn.GRU(hidden_size, hidden_size, n_layers)\n",
    "        self.decoder = nn.Linear(hidden_size, input_size)\n",
    "    \n",
    "    def forward(self, input, hidden):\n",
    "        input = self.encoder(input.view(1, -1))\n",
    "        output, hidden = self.gru(input.view(1, 1, -1), hidden)\n",
    "        output = self.decoder(output.view(1, -1))\n",
    "        return output, hidden\n",
    "\n",
    "    def init_hidden(self):\n",
    "        return Variable(torch.zeros(self.n_layers, 1, self.hidden_size))\n"
   ]
  },
  {
   "cell_type": "code",
   "execution_count": 29,
   "metadata": {},
   "outputs": [],
   "source": [
    "rnn = RNN()\n",
    "\n",
    "def rnn_loop(rnn, batch_ix):\n",
    "    batch_size = batch_ix.shape[0]\n",
    "    h_prev = rnn.init_hidden()\n",
    "    logits = []\n",
    "\n",
    "    tensor = torch.LongTensor(batch_ix.argmax(dim=1))\n",
    "    for x_t in tensor:\n",
    "        logit_t, h_prev = rnn(x_t, h_prev)\n",
    "        logits.append(logit_t)\n",
    "\n",
    "    logits = torch.stack(logits, dim=1)\n",
    "    logits.squeeze_(0)\n",
    "\n",
    "    return logits"
   ]
  },
  {
   "cell_type": "code",
   "execution_count": 30,
   "metadata": {},
   "outputs": [],
   "source": [
    "batch_ix = text_to_matrix(text[:100], token_to_idx)\n",
    "batch_ix = torch.tensor(batch_ix, dtype=torch.int64)\n",
    "\n",
    "logit_seq = rnn_loop(rnn, batch_ix)\n"
   ]
  },
  {
   "cell_type": "code",
   "execution_count": 31,
   "metadata": {},
   "outputs": [],
   "source": [
    "import random\n",
    "losses = []\n",
    "def train(text, model, optimizer, criterion, num_epochs=1):\n",
    "    batch_ix = text_to_matrix(text, token_to_idx)\n",
    "    batch_ix = torch.tensor(batch_ix, dtype=torch.int64)\n",
    "    target_ix = batch_ix[1:]\n",
    "    batch_ix = batch_ix[:-1]\n",
    "            \n",
    "    logits = rnn_loop(model, batch_ix)\n",
    "    loss = criterion(logits, target_ix.argmax(dim=1))\n",
    "\n",
    "    optimizer.zero_grad()\n",
    "    loss.backward()\n",
    "    optimizer.step()\n",
    "            \n",
    "    losses.append(loss.item())\n",
    "        \n",
    "    return model\n",
    "\n",
    "def train_all(lines, model, optimizer, criterion, num_epochs=1000):\n",
    "    for epoch in range(num_epochs):\n",
    "        line =  random.choice(lines)\n",
    "        line = line[:-1]\n",
    "        while len(line) < 10:\n",
    "            line =  random.choice(lines)\n",
    "            \n",
    "        model = train(line, model, optimizer, criterion, num_epochs)\n",
    "\n",
    "        if epoch % 100 == 0:\n",
    "            print('Epoch: {}, Loss: {:.4f}'.format(epoch, losses[-1]))\n",
    "    return model\n"
   ]
  },
  {
   "cell_type": "code",
   "execution_count": 32,
   "metadata": {},
   "outputs": [
    {
     "name": "stdout",
     "output_type": "stream",
     "text": [
      "Epoch: 0, Loss: 3.7524\n",
      "Epoch: 100, Loss: 2.7320\n",
      "Epoch: 200, Loss: 2.2551\n",
      "Epoch: 300, Loss: 2.0396\n",
      "Epoch: 400, Loss: 2.3237\n",
      "Epoch: 500, Loss: 2.2136\n",
      "Epoch: 600, Loss: 1.7927\n",
      "Epoch: 700, Loss: 1.7713\n",
      "Epoch: 800, Loss: 2.0144\n",
      "Epoch: 900, Loss: 2.4530\n",
      "Epoch: 1000, Loss: 2.1534\n",
      "Epoch: 1100, Loss: 1.8794\n",
      "Epoch: 1200, Loss: 2.0515\n",
      "Epoch: 1300, Loss: 2.3264\n",
      "Epoch: 1400, Loss: 1.8940\n",
      "Epoch: 1500, Loss: 1.7398\n",
      "Epoch: 1600, Loss: 1.9577\n",
      "Epoch: 1700, Loss: 1.9514\n",
      "Epoch: 1800, Loss: 2.2754\n",
      "Epoch: 1900, Loss: 2.0705\n"
     ]
    }
   ],
   "source": [
    "\n",
    "criterion = nn.CrossEntropyLoss()\n",
    "optimizer = torch.optim.Adam(rnn.parameters(), lr=0.01)\n",
    "#rnn = train(lines[random.randint(0, len(lines) - 1)], rnn, optimizer, criterion, num_epochs=2)\n",
    "rnn = train_all(lines, rnn, optimizer, criterion, num_epochs=2000)\n"
   ]
  },
  {
   "cell_type": "markdown",
   "metadata": {},
   "source": [
    "Plot the loss function (axis X: number of epochs, axis Y: loss function)."
   ]
  },
  {
   "cell_type": "code",
   "execution_count": 33,
   "metadata": {
    "collapsed": true
   },
   "outputs": [
    {
     "data": {
      "image/png": "[encoded data removed]",
      "text/plain": [
       "<Figure size 432x288 with 1 Axes>"
      ]
     },
     "metadata": {
      "needs_background": "light"
     },
     "output_type": "display_data"
    }
   ],
   "source": [
    "plt.plot(losses)\n",
    "plt.xlabel('epoch')\n",
    "plt.ylabel('loss')\n",
    "plt.show()"
   ]
  },
  {
   "cell_type": "code",
   "execution_count": 34,
   "metadata": {},
   "outputs": [],
   "source": [
    "#generator function for generating text\n",
    "def generate_sample(rnn, seed_phrase=' hello', max_length=20, temperature=1.0):\n",
    "    hidden = rnn.init_hidden()\n",
    "\n",
    "    batch_ix = text_to_matrix(seed_phrase, token_to_idx)\n",
    "    batch_ix = torch.tensor(batch_ix, dtype=torch.int64)\n",
    "    \n",
    "    tensor = torch.LongTensor(batch_ix.argmax(dim=1))\n",
    "    for p in range(len(seed_phrase) - 1):\n",
    "        _, hidden = rnn(tensor[p], hidden)\n",
    "    inp = tensor[-1]\n",
    "\n",
    "    predicted = seed_phrase\n",
    "\n",
    "    for p in range(max_length - len(seed_phrase)):\n",
    "        output, hidden = rnn(inp, hidden)\n",
    "        \n",
    "        output_dist = output.data.view(-1).div(temperature).exp()\n",
    "        top_i = torch.multinomial(output_dist, 1)[0]\n",
    "        \n",
    "        predicted_char = idx_to_token[int(top_i)]\n",
    "        predicted += predicted_char\n",
    "        inp = Variable(torch.tensor([token_to_idx[predicted_char]]))\n",
    "\n",
    "    return predicted\n"
   ]
  },
  {
   "cell_type": "code",
   "execution_count": 41,
   "metadata": {},
   "outputs": [
    {
     "name": "stdout",
     "output_type": "stream",
     "text": [
      "loving the the so the the the the to the the the the the the the and the the the the the the the the the the the the sto the the the the the the the the the the the the the and the the the the the so the the the the the the the the the the the the the the the the the the the the the the the the the the the the the the the the the the the the to the the the the the the the the the the the and the the the the the the the the sto the the the the and the the the the the and the the the the so the th\n"
     ]
    }
   ],
   "source": [
    "rnn_copy = rnn\n",
    "print(generate_sample(rnn_copy, max_length=500, seed_phrase='loving', temperature=0.2))\n"
   ]
  },
  {
   "cell_type": "markdown",
   "metadata": {},
   "source": [
    "### More poetic model\n",
    "\n",
    "Let's use LSTM instead of vanilla RNN and compare the results."
   ]
  },
  {
   "cell_type": "markdown",
   "metadata": {},
   "source": [
    "Plot the loss function of the number of epochs. Does the final loss become better?"
   ]
  },
  {
   "cell_type": "code",
   "execution_count": 36,
   "metadata": {
    "collapsed": true
   },
   "outputs": [],
   "source": [
    "# Your beautiful code here"
   ]
  },
  {
   "cell_type": "markdown",
   "metadata": {},
   "source": [
    "Generate text using the trained net with different `temperature` parameter: `[0.1, 0.2, 0.5, 1.0, 2.0]`.\n",
    "\n",
    "Evaluate the results visually, try to interpret them."
   ]
  },
  {
   "cell_type": "code",
   "execution_count": 37,
   "metadata": {
    "collapsed": true
   },
   "outputs": [],
   "source": [
    "# Text generation with different temperature values here"
   ]
  },
  {
   "cell_type": "markdown",
   "metadata": {},
   "source": [
    "### Saving and loading models"
   ]
  },
  {
   "cell_type": "markdown",
   "metadata": {},
   "source": [
    "Save the model to the disk, then load it and generate text. Examples are available [here](https://pytorch.org/tutorials/beginner/saving_loading_models.html])."
   ]
  },
  {
   "cell_type": "code",
   "execution_count": 38,
   "metadata": {
    "collapsed": true
   },
   "outputs": [],
   "source": [
    "# Saving and loading code here"
   ]
  },
  {
   "cell_type": "markdown",
   "metadata": {},
   "source": [
    "### References\n",
    "1. <a href='http://karpathy.github.io/2015/05/21/rnn-effectiveness/'> Andrew Karpathy blog post about RNN. </a> \n",
    "There are several examples of genration: Shakespeare texts, Latex formulas, Linux Sourse Code and children names.\n",
    "2. <a href='https://github.com/karpathy/char-rnn'> Repo with char-rnn code </a>\n",
    "3. Cool repo with PyTorch examples: [link](https://github.com/spro/practical-pytorch`)"
   ]
  }
 ],
 "metadata": {
  "anaconda-cloud": {},
  "kernelspec": {
   "display_name": "Python 3",
   "language": "python",
   "name": "python3"
  },
  "language_info": {
   "codemirror_mode": {
    "name": "ipython",
    "version": 3
   },
   "file_extension": ".py",
   "mimetype": "text/x-python",
   "name": "python",
   "nbconvert_exporter": "python",
   "pygments_lexer": "ipython3",
   "version": "3.10.8"
  },
  "vscode": {
   "interpreter": {
    "hash": "98b7f83ea1f6816592be813d0a9257f9f3e2d15bf5c320e3b781c72faa584dce"
   }
  }
 },
 "nbformat": 4,
 "nbformat_minor": 2
}
